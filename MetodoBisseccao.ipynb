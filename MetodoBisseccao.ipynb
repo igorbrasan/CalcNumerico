{
  "nbformat": 4,
  "nbformat_minor": 0,
  "metadata": {
    "colab": {
      "name": "MetodoBisseccao",
      "provenance": [],
      "collapsed_sections": [],
      "authorship_tag": "ABX9TyOg767NSsPiAlabxJ6TPR7y",
      "include_colab_link": true
    },
    "kernelspec": {
      "name": "python3",
      "display_name": "Python 3"
    },
    "language_info": {
      "name": "python"
    }
  },
  "cells": [
    {
      "cell_type": "markdown",
      "metadata": {
        "id": "view-in-github",
        "colab_type": "text"
      },
      "source": [
        "<a href=\"https://colab.research.google.com/github/igorbrasan/CalcNumerico/blob/main/MetodoBisseccao.ipynb\" target=\"_parent\"><img src=\"https://colab.research.google.com/assets/colab-badge.svg\" alt=\"Open In Colab\"/></a>"
      ]
    },
    {
      "cell_type": "markdown",
      "metadata": {
        "id": "AUez-iydT9qT"
      },
      "source": [
        "Blocos para outputt\n",
        "\n"
      ]
    },
    {
      "cell_type": "code",
      "metadata": {
        "id": "f-lI7uW5UDUr"
      },
      "source": [
        "#imprime a iteração caso não encontre a raiz\n",
        "def iterar(ctr, f, xi):\n",
        "    return(\"Iteração {} . Xi = {} , f(xi) = {}\" .format(ctr,xi,f(xi)))\n",
        "\n",
        "#imprime resulado na tela\n",
        "def resultado(xi):\n",
        "    return(\"O valor da Raiz é: {}\" .format(xi))\n",
        "\n",
        "#criar um arquivo para colocar as coisas\n",
        "def gerarArquivo(filename):\n",
        "    f = open(\"{}.txt\".format(filename), \"a\")\n",
        "\n",
        "#escreve a sessão num arquivo\n",
        "#def relatar(filename):\n",
        "    #estudar em https://www.w3schools.com/python/python_file_write.asp"
      ],
      "execution_count": null,
      "outputs": []
    },
    {
      "cell_type": "markdown",
      "metadata": {
        "id": "1j1gg7OSUddd"
      },
      "source": [
        "Definir a função"
      ]
    },
    {
      "cell_type": "code",
      "metadata": {
        "id": "FweQSw2NUfLH"
      },
      "source": [
        "def f(x):\n",
        "    return x ** 2 - 5"
      ],
      "execution_count": null,
      "outputs": []
    },
    {
      "cell_type": "markdown",
      "metadata": {
        "id": "M2AiDBl7UHCB"
      },
      "source": [
        "Calcular o ponto"
      ]
    },
    {
      "cell_type": "code",
      "metadata": {
        "colab": {
          "base_uri": "https://localhost:8080/"
        },
        "id": "pGm7rsvmUKUS",
        "outputId": "c7a050fe-3b78-4242-e8da-4a1a7aa4bc3e"
      },
      "source": [
        "#importar biblioteca matematica\n",
        "import math\n",
        "\n",
        "#definir um intervalo [a,b] e um erro [e]\n",
        "a = float(2)\n",
        "b = float(8)\n",
        "e = float(0.001)\n",
        "ctr = int(0)\n",
        "\n",
        "\n",
        "\n",
        "#Testando teorema de Bolzano\n",
        "def testBolzano(f, a, b):\n",
        "    return f(a) * f(b) < 0\n",
        "\n",
        "if testBolzano(f, a, b):\n",
        "    while (math.fabs(b - a) / 2 > e):\n",
        "        ctr= ctr+1\n",
        "        xi = (a+b) / 2\n",
        "        if f(xi) == 0:\n",
        "            break\n",
        "        else:\n",
        "            print(iterar(ctr, f, xi))\n",
        "            if f(a) * f(xi) < 0:\n",
        "                b = xi\n",
        "            else:\n",
        "                a = xi\n",
        "    print(resultado(xi))\n",
        "    #filename = input('Insira o nome do arquivo para salvar: ')\n",
        "    #gerarArquivo(filename)\n",
        "else:\n",
        "    print('Não há raiz nesse intervalo!')\n",
        "  "
      ],
      "execution_count": null,
      "outputs": [
        {
          "output_type": "stream",
          "name": "stdout",
          "text": [
            "Iteração 1 . Xi = 5.0 , f(xi) = 20.0\n",
            "Iteração 2 . Xi = 3.5 , f(xi) = 7.25\n",
            "Iteração 3 . Xi = 2.75 , f(xi) = 2.5625\n",
            "Iteração 4 . Xi = 2.375 , f(xi) = 0.640625\n",
            "Iteração 5 . Xi = 2.1875 , f(xi) = -0.21484375\n",
            "Iteração 6 . Xi = 2.28125 , f(xi) = 0.2041015625\n",
            "Iteração 7 . Xi = 2.234375 , f(xi) = -0.007568359375\n",
            "Iteração 8 . Xi = 2.2578125 , f(xi) = 0.09771728515625\n",
            "Iteração 9 . Xi = 2.24609375 , f(xi) = 0.0449371337890625\n",
            "Iteração 10 . Xi = 2.240234375 , f(xi) = 0.018650054931640625\n",
            "Iteração 11 . Xi = 2.2373046875 , f(xi) = 0.005532264709472656\n",
            "Iteração 12 . Xi = 2.23583984375 , f(xi) = -0.001020193099975586\n",
            "O valor da Raiz é: 2.23583984375\n"
          ]
        }
      ]
    }
  ]
}