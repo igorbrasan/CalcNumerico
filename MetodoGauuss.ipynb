{
  "nbformat": 4,
  "nbformat_minor": 0,
  "metadata": {
    "colab": {
      "name": "MetodoGauuss",
      "provenance": [],
      "authorship_tag": "ABX9TyNnO+tfrQ1GuVthCmgnhmHu",
      "include_colab_link": true
    },
    "kernelspec": {
      "name": "python3",
      "display_name": "Python 3"
    },
    "language_info": {
      "name": "python"
    }
  },
  "cells": [
    {
      "cell_type": "markdown",
      "metadata": {
        "id": "view-in-github",
        "colab_type": "text"
      },
      "source": [
        "<a href=\"https://colab.research.google.com/github/igorbrasan/CalcNumerico/blob/main/MetodoGauuss.ipynb\" target=\"_parent\"><img src=\"https://colab.research.google.com/assets/colab-badge.svg\" alt=\"Open In Colab\"/></a>"
      ]
    },
    {
      "cell_type": "markdown",
      "metadata": {
        "id": "F1C78-cwIDOB"
      },
      "source": [
        "Primeira iteração\n",
        "\n",
        "A implementação mais simples do sistema é colocar as variáveis a e b para receber o valor entre as linhas."
      ]
    },
    {
      "cell_type": "code",
      "metadata": {
        "colab": {
          "base_uri": "https://localhost:8080/"
        },
        "id": "ryUa7rbS_ZHd",
        "outputId": "ac0b7793-50e6-4d5b-f785-3fa2e0d63003"
      },
      "source": [
        "a = 0\n",
        "b = 0\n",
        "\n",
        "#Sistema de equação convertido para o formato certo\n",
        "\n",
        "\n",
        "x = (1 - 3 * b) / 4\n",
        "a = x\n",
        "\n",
        "y = (2 - a) / 2\n",
        "b = y\n",
        "\n",
        "\n",
        "print(\"x = {} , y = {}\" .format(x,y))\n",
        "\n",
        "print(\"[a1,b1] = [{}, {}]\" .format(a,b))"
      ],
      "execution_count": 6,
      "outputs": [
        {
          "output_type": "stream",
          "name": "stdout",
          "text": [
            "x = 0.25 , y = 0.875\n",
            "[a1,b1] = [0.25, 0.875]\n"
          ]
        }
      ]
    },
    {
      "cell_type": "markdown",
      "metadata": {
        "id": "gAP0_rBdLYEU"
      },
      "source": [
        "Inserindo isso em um loop, temos"
      ]
    },
    {
      "cell_type": "code",
      "metadata": {
        "colab": {
          "base_uri": "https://localhost:8080/"
        },
        "id": "hwvkinWtBK3V",
        "outputId": "de17852b-a2c6-4679-ec10-613f7e8e168b"
      },
      "source": [
        "for i in range(5):\n",
        "  x = (1 - 3 * b) / 4\n",
        "  a = x\n",
        "  y = (2 - a) / 2\n",
        "  b = y\n",
        "  print(\" [a{0},b{0}] = [{1}, {2}]\" .format(i+2,a,b))\n"
      ],
      "execution_count": 7,
      "outputs": [
        {
          "output_type": "stream",
          "name": "stdout",
          "text": [
            " [a2,b2] = [-0.40625, 1.203125]\n",
            " [a3,b3] = [-0.65234375, 1.326171875]\n",
            " [a4,b4] = [-0.74462890625, 1.372314453125]\n",
            " [a5,b5] = [-0.77923583984375, 1.389617919921875]\n",
            " [a6,b6] = [-0.7922134399414062, 1.3961067199707031]\n"
          ]
        }
      ]
    }
  ]
}