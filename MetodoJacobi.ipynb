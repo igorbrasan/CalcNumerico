{
  "nbformat": 4,
  "nbformat_minor": 0,
  "metadata": {
    "colab": {
      "name": "MetodoJacobi",
      "provenance": [],
      "authorship_tag": "ABX9TyMEYa92IK8CK4uZg+LRZ3fp",
      "include_colab_link": true
    },
    "kernelspec": {
      "name": "python3",
      "display_name": "Python 3"
    },
    "language_info": {
      "name": "python"
    }
  },
  "cells": [
    {
      "cell_type": "markdown",
      "metadata": {
        "id": "view-in-github",
        "colab_type": "text"
      },
      "source": [
        "<a href=\"https://colab.research.google.com/github/igorbrasan/CalcNumerico/blob/main/MetodoJacobi.ipynb\" target=\"_parent\"><img src=\"https://colab.research.google.com/assets/colab-badge.svg\" alt=\"Open In Colab\"/></a>"
      ]
    },
    {
      "cell_type": "markdown",
      "metadata": {
        "id": "LmDTeIyNAlot"
      },
      "source": [
        "Primeira iteração"
      ]
    },
    {
      "cell_type": "code",
      "metadata": {
        "colab": {
          "base_uri": "https://localhost:8080/"
        },
        "id": "ryUa7rbS_ZHd",
        "outputId": "34f31123-95d9-4e26-f21a-47318a2eca5c"
      },
      "source": [
        "a = 0\n",
        "b = 0\n",
        "\n",
        "#Sistema de equação convertido para o formato certo\n",
        "x = (1 - 3 * b) / 4\n",
        "y = (2 - a) / 2\n",
        "\n",
        "print(\"x = {} , y = {}\" .format(x,y))\n",
        "\n",
        "a = x\n",
        "b = y\n",
        "\n",
        "print(\"[a1,b1] = [{}, {}]\" .format(a,b))"
      ],
      "execution_count": null,
      "outputs": [
        {
          "output_type": "stream",
          "name": "stdout",
          "text": [
            "x = 0.25 , y = 1.0\n",
            "[a1,b1] = [0.25, 1.0]\n"
          ]
        }
      ]
    },
    {
      "cell_type": "markdown",
      "metadata": {
        "id": "fkikeRnaCSNg"
      },
      "source": [
        "Loop de iterações(imprime 5 por vez)\n",
        "Itera 5 vezes a função e imprime os resultados. \n",
        "Pode ser aumentada a quantidade de iterações por vez mudando o valor de Range()\n",
        "Para zerar as iterações, execute o primeiro bloco de codigo."
      ]
    },
    {
      "cell_type": "code",
      "metadata": {
        "colab": {
          "base_uri": "https://localhost:8080/"
        },
        "id": "hwvkinWtBK3V",
        "outputId": "d4983ce2-7fa0-4383-e0cf-99be9693ed02"
      },
      "source": [
        "for i in range(5):\n",
        "  x = (1 - 3 * b) / 4\n",
        "  y = (2 - a) / 2\n",
        "  a = x\n",
        "  b = y\n",
        "  print(\" [a{0},b{0}] = [{1}, {2}]\" .format(i+2,a,b))\n"
      ],
      "execution_count": null,
      "outputs": [
        {
          "output_type": "stream",
          "name": "stdout",
          "text": [
            " [a2,b2] = [-0.5, 0.875]\n",
            " [a3,b3] = [-0.40625, 1.25]\n",
            " [a4,b4] = [-0.6875, 1.203125]\n",
            " [a5,b5] = [-0.65234375, 1.34375]\n",
            " [a6,b6] = [-0.7578125, 1.326171875]\n"
          ]
        }
      ]
    },
    {
      "cell_type": "code",
      "metadata": {
        "colab": {
          "base_uri": "https://localhost:8080/"
        },
        "id": "pZbXlRpdF2xy",
        "outputId": "85927ed8-db93-4be4-b471-c684f71b4fb4"
      },
      "source": [
        "for i in range(20):\n",
        "  x = (1 - 3 * b) / 4\n",
        "  y = (2 - a) / 2\n",
        "  a = x\n",
        "  b = y\n",
        "  print(\" [a{0},b{0}] = [{1}, {2}]\" .format(i+7,a,b))\n"
      ],
      "execution_count": null,
      "outputs": [
        {
          "output_type": "stream",
          "name": "stdout",
          "text": [
            " [a7,b7] = [-0.74462890625, 1.37890625]\n",
            " [a8,b8] = [-0.7841796875, 1.372314453125]\n",
            " [a9,b9] = [-0.77923583984375, 1.39208984375]\n",
            " [a10,b10] = [-0.7940673828125, 1.389617919921875]\n",
            " [a11,b11] = [-0.7922134399414062, 1.39703369140625]\n",
            " [a12,b12] = [-0.7977752685546875, 1.3961067199707031]\n",
            " [a13,b13] = [-0.7970800399780273, 1.3988876342773438]\n",
            " [a14,b14] = [-0.7991657257080078, 1.3985400199890137]\n",
            " [a15,b15] = [-0.7989050149917603, 1.399582862854004]\n",
            " [a16,b16] = [-0.7996871471405029, 1.3994525074958801]\n",
            " [a17,b17] = [-0.7995893806219101, 1.3998435735702515]\n",
            " [a18,b18] = [-0.7998826801776886, 1.399794690310955]\n",
            " [a19,b19] = [-0.7998460177332163, 1.3999413400888443]\n",
            " [a20,b20] = [-0.7999560050666332, 1.3999230088666081]\n",
            " [a21,b21] = [-0.7999422566499561, 1.3999780025333166]\n",
            " [a22,b22] = [-0.7999835018999875, 1.399971128324978]\n",
            " [a23,b23] = [-0.7999783462437335, 1.3999917509499937]\n",
            " [a24,b24] = [-0.7999938132124953, 1.3999891731218668]\n",
            " [a25,b25] = [-0.7999918798414001, 1.3999969066062476]\n",
            " [a26,b26] = [-0.7999976799546857, 1.3999959399207]\n"
          ]
        }
      ]
    }
  ]
}